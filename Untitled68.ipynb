{
  "nbformat": 4,
  "nbformat_minor": 0,
  "metadata": {
    "colab": {
      "name": "Untitled68.ipynb",
      "provenance": [],
      "authorship_tag": "ABX9TyNXJY4rWH1ziIJxAQGe6EZq",
      "include_colab_link": true
    },
    "kernelspec": {
      "name": "python3",
      "display_name": "Python 3"
    },
    "language_info": {
      "name": "python"
    }
  },
  "cells": [
    {
      "cell_type": "markdown",
      "metadata": {
        "id": "view-in-github",
        "colab_type": "text"
      },
      "source": [
        "<a href=\"https://colab.research.google.com/github/datacode-tr/Assignment-008-2-Covid-19-Risk-/blob/main/Untitled68.ipynb\" target=\"_parent\"><img src=\"https://colab.research.google.com/assets/colab-badge.svg\" alt=\"Open In Colab\"/></a>"
      ]
    },
    {
      "cell_type": "code",
      "metadata": {
        "id": "kRBwdEkrnvtd"
      },
      "source": [
        "user =input('Find out if a given number is an Armstrong Number: ')\n",
        "sum_ls =0\n",
        "if user.isdigit():\n",
        "  new = [int(i)for i in user]\n",
        "  for i in new:\n",
        "    sum_ls += i**len(new)\n",
        "  if sum_ls == int(user):\n",
        "    print(user,'is an Armstrong number')\n",
        "  else:\n",
        "      print(user,'is not an Armstrong number')\n",
        "else:\n",
        "    print(\"It is an invalid entry. Don't use non-numeric, float, or negative values!\" ) "
      ],
      "execution_count": null,
      "outputs": []
    }
  ]
}